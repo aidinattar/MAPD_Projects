{
 "cells": [
  {
   "cell_type": "code",
   "execution_count": 1,
   "id": "4180a637",
   "metadata": {},
   "outputs": [],
   "source": [
    "import serial\n",
    "ser = serial.Serial('/dev/ttyUSB1', baudrate=115200)"
   ]
  },
  {
   "cell_type": "code",
   "execution_count": 9,
   "id": "2a6e9573",
   "metadata": {
    "scrolled": true
   },
   "outputs": [
    {
     "name": "stdout",
     "output_type": "stream",
     "text": [
      "b'B'\n",
      "b'u'\n",
      "b'o'\n",
      "b'n'\n",
      "b' '\n",
      "b'A'\n",
      "b'n'\n",
      "b'n'\n",
      "b'o'\n"
     ]
    }
   ],
   "source": [
    "sentence = 'Buon Anno'\n",
    "for char in sentence:\n",
    "    ser.write(char.encode())\n",
    "    d = ser.read()\n",
    "    print(d)\n"
   ]
  },
  {
   "cell_type": "code",
   "execution_count": 10,
   "id": "138c591c",
   "metadata": {},
   "outputs": [
    {
     "data": {
      "text/plain": [
       "111"
      ]
     },
     "execution_count": 10,
     "metadata": {},
     "output_type": "execute_result"
    }
   ],
   "source": [
    "ord(d)"
   ]
  },
  {
   "cell_type": "code",
   "execution_count": 11,
   "id": "3850c845",
   "metadata": {},
   "outputs": [
    {
     "data": {
      "text/plain": [
       "'o'"
      ]
     },
     "execution_count": 11,
     "metadata": {},
     "output_type": "execute_result"
    }
   ],
   "source": [
    "chr(111)"
   ]
  },
  {
   "cell_type": "code",
   "execution_count": 12,
   "id": "35dcd1ac",
   "metadata": {},
   "outputs": [
    {
     "data": {
      "text/plain": [
       "bytes"
      ]
     },
     "execution_count": 12,
     "metadata": {},
     "output_type": "execute_result"
    }
   ],
   "source": [
    "type(d)"
   ]
  },
  {
   "cell_type": "code",
   "execution_count": 15,
   "id": "a13c5c99",
   "metadata": {},
   "outputs": [
    {
     "data": {
      "text/plain": [
       "'o'"
      ]
     },
     "execution_count": 15,
     "metadata": {},
     "output_type": "execute_result"
    }
   ],
   "source": [
    "chr(ord(d))\n"
   ]
  },
  {
   "cell_type": "code",
   "execution_count": 20,
   "id": "7d219f0c",
   "metadata": {},
   "outputs": [
    {
     "ename": "AttributeError",
     "evalue": "module 'serial' has no attribute 'tools'",
     "output_type": "error",
     "traceback": [
      "\u001b[0;31m---------------------------------------------------------------------------\u001b[0m",
      "\u001b[0;31mAttributeError\u001b[0m                            Traceback (most recent call last)",
      "\u001b[0;32m/tmp/ipykernel_41204/349783998.py\u001b[0m in \u001b[0;36m<module>\u001b[0;34m\u001b[0m\n\u001b[0;32m----> 1\u001b[0;31m \u001b[0mserial\u001b[0m\u001b[0;34m.\u001b[0m\u001b[0mtools\u001b[0m\u001b[0;34m.\u001b[0m\u001b[0mlist_ports\u001b[0m\u001b[0;34m\u001b[0m\u001b[0;34m\u001b[0m\u001b[0m\n\u001b[0m",
      "\u001b[0;31mAttributeError\u001b[0m: module 'serial' has no attribute 'tools'"
     ]
    }
   ],
   "source": [
    "serial.tools.list_ports"
   ]
  },
  {
   "cell_type": "code",
   "execution_count": 24,
   "id": "7e40cef4",
   "metadata": {},
   "outputs": [
    {
     "ename": "NameError",
     "evalue": "name 'list_port' is not defined",
     "output_type": "error",
     "traceback": [
      "\u001b[0;31m---------------------------------------------------------------------------\u001b[0m",
      "\u001b[0;31mNameError\u001b[0m                                 Traceback (most recent call last)",
      "\u001b[0;32m/tmp/ipykernel_41204/4223937598.py\u001b[0m in \u001b[0;36m<module>\u001b[0;34m\u001b[0m\n\u001b[1;32m      1\u001b[0m \u001b[0;32mfrom\u001b[0m \u001b[0mserial\u001b[0m\u001b[0;34m.\u001b[0m\u001b[0mtools\u001b[0m \u001b[0;32mimport\u001b[0m \u001b[0mlist_ports\u001b[0m\u001b[0;34m\u001b[0m\u001b[0;34m\u001b[0m\u001b[0m\n\u001b[1;32m      2\u001b[0m \u001b[0;34m\u001b[0m\u001b[0m\n\u001b[0;32m----> 3\u001b[0;31m \u001b[0mlist_port\u001b[0m\u001b[0;34m\u001b[0m\u001b[0;34m\u001b[0m\u001b[0m\n\u001b[0m",
      "\u001b[0;31mNameError\u001b[0m: name 'list_port' is not defined"
     ]
    }
   ],
   "source": [
    "from serial.tools import list_ports\n",
    "\n",
    "list_port"
   ]
  },
  {
   "cell_type": "code",
   "execution_count": null,
   "id": "e42f2e9a",
   "metadata": {},
   "outputs": [],
   "source": []
  }
 ],
 "metadata": {
  "kernelspec": {
   "display_name": "Python 3 (ipykernel)",
   "language": "python",
   "name": "python3"
  },
  "language_info": {
   "codemirror_mode": {
    "name": "ipython",
    "version": 3
   },
   "file_extension": ".py",
   "mimetype": "text/x-python",
   "name": "python",
   "nbconvert_exporter": "python",
   "pygments_lexer": "ipython3",
   "version": "3.8.12"
  }
 },
 "nbformat": 4,
 "nbformat_minor": 5
}
